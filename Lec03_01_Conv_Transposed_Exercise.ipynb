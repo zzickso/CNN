{
  "nbformat": 4,
  "nbformat_minor": 0,
  "metadata": {
    "colab": {
      "name": "Lec03_01_Conv_Transposed_Exercise.ipynb",
      "provenance": [],
      "collapsed_sections": [],
      "include_colab_link": true
    },
    "kernelspec": {
      "display_name": "Python 3",
      "language": "python",
      "name": "python3"
    }
  },
  "cells": [
    {
      "cell_type": "markdown",
      "metadata": {
        "id": "view-in-github",
        "colab_type": "text"
      },
      "source": [
        "<a href=\"https://colab.research.google.com/github/zzickso/CNN/blob/main/Lec03_01_Conv_Transposed_Exercise.ipynb\" target=\"_parent\"><img src=\"https://colab.research.google.com/assets/colab-badge.svg\" alt=\"Open In Colab\"/></a>"
      ]
    },
    {
      "cell_type": "code",
      "metadata": {
        "id": "1Vb3q9Fc7Uix"
      },
      "source": [
        "# Codes are adapted from http://bit.ly/2U7ttYT (파이토치 첫걸음,한빛미디어)"
      ],
      "execution_count": null,
      "outputs": []
    },
    {
      "cell_type": "markdown",
      "metadata": {
        "id": "0eOfbFW9RsOu"
      },
      "source": [
        "# Convolution Transposed Exercise\n",
        "\n",
        "- torch.nn.ConvTranspose2d(in_channels, out_channels, kernel_size, stride=1, padding=0, output_padding=0, groups=1, bias=True, dilation=1)\n",
        "- 다양한 세팅에서 전치 컨볼루션 연산이 어떻게 동작하는지 확인해보는 노트북입니다.\n",
        "\n",
        "## 1. Import Required Libraries"
      ]
    },
    {
      "cell_type": "code",
      "metadata": {
        "id": "DPrKoGVt7Xct",
        "colab": {
          "base_uri": "https://localhost:8080/"
        },
        "outputId": "7c335a8c-03be-4f27-aefe-b23bcd0cf961"
      },
      "source": [
        "from google.colab import drive\n",
        "drive.mount('/content/drive')"
      ],
      "execution_count": null,
      "outputs": [
        {
          "output_type": "stream",
          "text": [
            "Mounted at /content/drive\n"
          ],
          "name": "stdout"
        }
      ]
    },
    {
      "cell_type": "code",
      "metadata": {
        "id": "5Bwyj3Jt7YQh",
        "colab": {
          "base_uri": "https://localhost:8080/"
        },
        "outputId": "3bc8d571-337a-438a-c654-abd91e24de97"
      },
      "source": [
        "cd '/content/drive/MyDrive/ColabNotebooks/Lecture/Pytorch/Codes' "
      ],
      "execution_count": null,
      "outputs": [
        {
          "output_type": "stream",
          "text": [
            "/content/drive/MyDrive/ColabNotebooks/Lecture/Pytorch/Codes\n"
          ],
          "name": "stdout"
        }
      ]
    },
    {
      "cell_type": "code",
      "metadata": {
        "id": "JxzkZDOHRsOw",
        "colab": {
          "base_uri": "https://localhost:8080/"
        },
        "outputId": "5f85ea95-4789-4ae3-a3ab-f530bae52ccb"
      },
      "source": [
        "import torch\n",
        "import torch.nn as nn\n",
        "import torch.nn.init as init\n",
        "import matplotlib.pyplot as plt\n",
        "\n",
        "print(torch.__version__)"
      ],
      "execution_count": null,
      "outputs": [
        {
          "output_type": "stream",
          "text": [
            "1.8.1+cu101\n"
          ],
          "name": "stdout"
        }
      ]
    },
    {
      "cell_type": "markdown",
      "metadata": {
        "id": "3iSPNyTlRsO1"
      },
      "source": [
        "## 2. Input Data"
      ]
    },
    {
      "cell_type": "code",
      "metadata": {
        "id": "3JyDVfcTRsO2",
        "colab": {
          "base_uri": "https://localhost:8080/",
          "height": 338
        },
        "outputId": "ca7af574-9ae8-4ce6-970e-2434c1f65ce6"
      },
      "source": [
        "# 입력으로 1로 채워진 텐서를 생성합니다.\n",
        "img = torch.ones(1,1,3,3)\n",
        "print(img)\n",
        "\n",
        "plt.imshow(img.numpy()[0,0,...],vmin=0)"
      ],
      "execution_count": null,
      "outputs": [
        {
          "output_type": "stream",
          "text": [
            "tensor([[[[1., 1., 1.],\n",
            "          [1., 1., 1.],\n",
            "          [1., 1., 1.]]]])\n"
          ],
          "name": "stdout"
        },
        {
          "output_type": "execute_result",
          "data": {
            "text/plain": [
              "<matplotlib.image.AxesImage at 0x7f5d9e16bf90>"
            ]
          },
          "metadata": {
            "tags": []
          },
          "execution_count": 4
        },
        {
          "output_type": "display_data",
          "data": {
            "image/png": "[encoded data removed]",
            "text/plain": [
              "<Figure size 432x288 with 1 Axes>"
            ]
          },
          "metadata": {
            "tags": [],
            "needs_background": "light"
          }
        }
      ]
    },
    {
      "cell_type": "markdown",
      "metadata": {
        "id": "2ge2r_X4RsO9"
      },
      "source": [
        "## 3. Set All Weights to One"
      ]
    },
    {
      "cell_type": "code",
      "metadata": {
        "id": "sg8-o1RfRsO9",
        "colab": {
          "base_uri": "https://localhost:8080/"
        },
        "outputId": "9f55ea5a-1119-48b4-e46b-549a1cb0f7a2"
      },
      "source": [
        "transpose = nn.ConvTranspose2d(in_channels=1, out_channels=1, kernel_size=3, stride=1, padding=0, output_padding=0, bias=False)\n",
        "#print(transpose.weight.data)\n",
        "\n",
        "# 결과를 확인하기 쉽게 전치 컨볼루션 연산의 가중치를 1로 초기화합니다.\n",
        "init.constant_(transpose.weight.data,1)"
      ],
      "execution_count": null,
      "outputs": [
        {
          "output_type": "execute_result",
          "data": {
            "text/plain": [
              "tensor([[[[1., 1., 1.],\n",
              "          [1., 1., 1.],\n",
              "          [1., 1., 1.]]]])"
            ]
          },
          "metadata": {
            "tags": []
          },
          "execution_count": 5
        }
      ]
    },
    {
      "cell_type": "markdown",
      "metadata": {
        "id": "8ZOTc8R6RsPA"
      },
      "source": [
        "## Kernel Size=3, stride=1, padding=0, output_padding=0"
      ]
    },
    {
      "cell_type": "code",
      "metadata": {
        "id": "zFma1zb8RsPC",
        "colab": {
          "base_uri": "https://localhost:8080/",
          "height": 351
        },
        "outputId": "b793d1de-22e6-4e70-c8ed-9e452a8efe19"
      },
      "source": [
        "out = transpose(img)\n",
        "print(out,out.size())\n",
        "\n",
        "plt.imshow(out.detach().numpy()[0,0,...],vmin=0)\n",
        "plt.show()"
      ],
      "execution_count": null,
      "outputs": [
        {
          "output_type": "stream",
          "text": [
            "tensor([[[[1., 2., 3., 2., 1.],\n",
            "          [2., 4., 6., 4., 2.],\n",
            "          [3., 6., 9., 6., 3.],\n",
            "          [2., 4., 6., 4., 2.],\n",
            "          [1., 2., 3., 2., 1.]]]], grad_fn=<SlowConvTranspose2DBackward>) torch.Size([1, 1, 5, 5])\n"
          ],
          "name": "stdout"
        },
        {
          "output_type": "display_data",
          "data": {
            "image/png": "[encoded data removed]",
            "text/plain": [
              "<Figure size 432x288 with 1 Axes>"
            ]
          },
          "metadata": {
            "tags": [],
            "needs_background": "light"
          }
        }
      ]
    },
    {
      "cell_type": "markdown",
      "metadata": {
        "id": "Yq_kau-ORsPE"
      },
      "source": [
        "## Kernel Size=3, stride=2, padding=0, output_padding=0"
      ]
    },
    {
      "cell_type": "code",
      "metadata": {
        "id": "SaSgaBXgRsPF",
        "colab": {
          "base_uri": "https://localhost:8080/",
          "height": 420
        },
        "outputId": "f67a1d9a-8f5e-4ed8-f248-9e748b9fc7d1"
      },
      "source": [
        "transpose = nn.ConvTranspose2d(in_channels=1, out_channels=1, kernel_size=3, stride=2, padding=0, output_padding=0, bias=False)\n",
        "init.constant_(transpose.weight.data,1)\n",
        "out = transpose(img)\n",
        "\n",
        "print(out,out.size())\n",
        "plt.imshow(out.detach().numpy()[0,0,...],vmin=0)"
      ],
      "execution_count": null,
      "outputs": [
        {
          "output_type": "stream",
          "text": [
            "tensor([[[[1., 1., 2., 1., 2., 1., 1.],\n",
            "          [1., 1., 2., 1., 2., 1., 1.],\n",
            "          [2., 2., 4., 2., 4., 2., 2.],\n",
            "          [1., 1., 2., 1., 2., 1., 1.],\n",
            "          [2., 2., 4., 2., 4., 2., 2.],\n",
            "          [1., 1., 2., 1., 2., 1., 1.],\n",
            "          [1., 1., 2., 1., 2., 1., 1.]]]],\n",
            "       grad_fn=<SlowConvTranspose2DBackward>) torch.Size([1, 1, 7, 7])\n"
          ],
          "name": "stdout"
        },
        {
          "output_type": "execute_result",
          "data": {
            "text/plain": [
              "<matplotlib.image.AxesImage at 0x7f5d9dbaf3d0>"
            ]
          },
          "metadata": {
            "tags": []
          },
          "execution_count": 7
        },
        {
          "output_type": "display_data",
          "data": {
            "image/png": "[encoded data removed]",
            "text/plain": [
              "<Figure size 432x288 with 1 Axes>"
            ]
          },
          "metadata": {
            "tags": [],
            "needs_background": "light"
          }
        }
      ]
    },
    {
      "cell_type": "markdown",
      "metadata": {
        "id": "gTBmj5jWRsPI"
      },
      "source": [
        "## Kernel Size=3, stride=2, padding=1, output_padding=0"
      ]
    },
    {
      "cell_type": "code",
      "metadata": {
        "id": "Q9DrsVYbRsPJ",
        "colab": {
          "base_uri": "https://localhost:8080/",
          "height": 368
        },
        "outputId": "c425601f-ebd1-4c7f-b8bd-1302d3545a97"
      },
      "source": [
        "transpose = nn.ConvTranspose2d(in_channels=1, out_channels=1, kernel_size=3, stride=2, padding=1, output_padding=0, bias=False)\n",
        "init.constant_(transpose.weight.data,1)\n",
        "out = transpose(img)\n",
        "\n",
        "print(out,out.size())\n",
        "plt.imshow(out.detach().numpy()[0,0,...],vmin=0)"
      ],
      "execution_count": null,
      "outputs": [
        {
          "output_type": "stream",
          "text": [
            "tensor([[[[1., 2., 1., 2., 1.],\n",
            "          [2., 4., 2., 4., 2.],\n",
            "          [1., 2., 1., 2., 1.],\n",
            "          [2., 4., 2., 4., 2.],\n",
            "          [1., 2., 1., 2., 1.]]]], grad_fn=<SlowConvTranspose2DBackward>) torch.Size([1, 1, 5, 5])\n"
          ],
          "name": "stdout"
        },
        {
          "output_type": "execute_result",
          "data": {
            "text/plain": [
              "<matplotlib.image.AxesImage at 0x7f5d9db1e4d0>"
            ]
          },
          "metadata": {
            "tags": []
          },
          "execution_count": 8
        },
        {
          "output_type": "display_data",
          "data": {
            "image/png": "[encoded data removed]",
            "text/plain": [
              "<Figure size 432x288 with 1 Axes>"
            ]
          },
          "metadata": {
            "tags": [],
            "needs_background": "light"
          }
        }
      ]
    },
    {
      "cell_type": "markdown",
      "metadata": {
        "id": "0nYcw1umRsPM"
      },
      "source": [
        "## Kernel Size=3, stride=2, padding=0, output_padding=1"
      ]
    },
    {
      "cell_type": "code",
      "metadata": {
        "id": "No7m6Z2SRsPN",
        "colab": {
          "base_uri": "https://localhost:8080/",
          "height": 437
        },
        "outputId": "1737c561-7594-49b2-ee8e-f14f4647fe86"
      },
      "source": [
        "transpose = nn.ConvTranspose2d(in_channels=1, out_channels=1, kernel_size=3, stride=2, padding=0, output_padding=1, bias=False)\n",
        "init.constant_(transpose.weight.data,1)\n",
        "out=transpose(img)\n",
        "\n",
        "print(out,out.size())\n",
        "plt.imshow(out.detach().numpy()[0,0,...],vmin=0)"
      ],
      "execution_count": null,
      "outputs": [
        {
          "output_type": "stream",
          "text": [
            "tensor([[[[1., 1., 2., 1., 2., 1., 1., 0.],\n",
            "          [1., 1., 2., 1., 2., 1., 1., 0.],\n",
            "          [2., 2., 4., 2., 4., 2., 2., 0.],\n",
            "          [1., 1., 2., 1., 2., 1., 1., 0.],\n",
            "          [2., 2., 4., 2., 4., 2., 2., 0.],\n",
            "          [1., 1., 2., 1., 2., 1., 1., 0.],\n",
            "          [1., 1., 2., 1., 2., 1., 1., 0.],\n",
            "          [0., 0., 0., 0., 0., 0., 0., 0.]]]],\n",
            "       grad_fn=<SlowConvTranspose2DBackward>) torch.Size([1, 1, 8, 8])\n"
          ],
          "name": "stdout"
        },
        {
          "output_type": "execute_result",
          "data": {
            "text/plain": [
              "<matplotlib.image.AxesImage at 0x7f5d9daff9d0>"
            ]
          },
          "metadata": {
            "tags": []
          },
          "execution_count": 9
        },
        {
          "output_type": "display_data",
          "data": {
            "image/png": "[encoded data removed]",
            "text/plain": [
              "<Figure size 432x288 with 1 Axes>"
            ]
          },
          "metadata": {
            "tags": [],
            "needs_background": "light"
          }
        }
      ]
    },
    {
      "cell_type": "markdown",
      "metadata": {
        "id": "amN3Jj9RRsPQ"
      },
      "source": [
        "## Kernel Size=3, stride=2, padding=1, output_padding=1"
      ]
    },
    {
      "cell_type": "code",
      "metadata": {
        "id": "8I52Q-EfRsPQ",
        "colab": {
          "base_uri": "https://localhost:8080/",
          "height": 385
        },
        "outputId": "f25e1d01-769b-46cf-9c77-8e26d60ec3f1"
      },
      "source": [
        "transpose = nn.ConvTranspose2d(in_channels=1, out_channels=1, kernel_size=3, stride=2, padding=1, output_padding=1, bias=False)\n",
        "init.constant_(transpose.weight.data,1)\n",
        "\n",
        "out = transpose(img)\n",
        "print(out,out.size())\n",
        "plt.imshow(out.detach().numpy()[0,0,...],vmin=0)"
      ],
      "execution_count": null,
      "outputs": [
        {
          "output_type": "stream",
          "text": [
            "tensor([[[[1., 2., 1., 2., 1., 1.],\n",
            "          [2., 4., 2., 4., 2., 2.],\n",
            "          [1., 2., 1., 2., 1., 1.],\n",
            "          [2., 4., 2., 4., 2., 2.],\n",
            "          [1., 2., 1., 2., 1., 1.],\n",
            "          [1., 2., 1., 2., 1., 1.]]]], grad_fn=<SlowConvTranspose2DBackward>) torch.Size([1, 1, 6, 6])\n"
          ],
          "name": "stdout"
        },
        {
          "output_type": "execute_result",
          "data": {
            "text/plain": [
              "<matplotlib.image.AxesImage at 0x7f5d9da67d90>"
            ]
          },
          "metadata": {
            "tags": []
          },
          "execution_count": 10
        },
        {
          "output_type": "display_data",
          "data": {
            "image/png": "[encoded data removed]",
            "text/plain": [
              "<Figure size 432x288 with 1 Axes>"
            ]
          },
          "metadata": {
            "tags": [],
            "needs_background": "light"
          }
        }
      ]
    },
    {
      "cell_type": "code",
      "metadata": {
        "id": "mYDdkE4xRsPS",
        "colab": {
          "base_uri": "https://localhost:8080/",
          "height": 388
        },
        "outputId": "1f6739e2-90f3-487c-edee-a7d813a0dbd9"
      },
      "source": [
        "transpose = nn.ConvTranspose2d(in_channels=1, out_channels=1, kernel_size=4, stride=2, padding=1, output_padding=0, bias=False)\n",
        "init.constant_(transpose.weight.data,1)\n",
        "\n",
        "out = transpose(img)\n",
        "print(out,out.size())\n",
        "plt.imshow(out.detach().numpy()[0,0,...],vmin=0)"
      ],
      "execution_count": null,
      "outputs": [
        {
          "output_type": "stream",
          "text": [
            "tensor([[[[1., 2., 2., 2., 2., 1.],\n",
            "          [2., 4., 4., 4., 4., 2.],\n",
            "          [2., 4., 4., 4., 4., 2.],\n",
            "          [2., 4., 4., 4., 4., 2.],\n",
            "          [2., 4., 4., 4., 4., 2.],\n",
            "          [1., 2., 2., 2., 2., 1.]]]], grad_fn=<ThnnConvTranspose2DBackward>) torch.Size([1, 1, 6, 6])\n"
          ],
          "name": "stdout"
        },
        {
          "output_type": "execute_result",
          "data": {
            "text/plain": [
              "<matplotlib.image.AxesImage at 0x7f44a4f994e0>"
            ]
          },
          "metadata": {
            "tags": []
          },
          "execution_count": 9
        },
        {
          "output_type": "display_data",
          "data": {
            "image/png": "[encoded data removed]",
            "text/plain": [
              "<Figure size 432x288 with 1 Axes>"
            ]
          },
          "metadata": {
            "tags": []
          }
        }
      ]
    },
    {
      "cell_type": "code",
      "metadata": {
        "id": "aio1tVIaRyTA"
      },
      "source": [
        ""
      ],
      "execution_count": null,
      "outputs": []
    }
  ]
}