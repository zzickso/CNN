{
  "nbformat": 4,
  "nbformat_minor": 0,
  "metadata": {
    "colab": {
      "name": "Lec03_00_컨볼루션 연산의 파라미터 살펴보기.ipynb",
      "provenance": [],
      "collapsed_sections": [],
      "include_colab_link": true
    },
    "kernelspec": {
      "name": "python3",
      "display_name": "Python 3"
    }
  },
  "cells": [
    {
      "cell_type": "markdown",
      "metadata": {
        "id": "view-in-github",
        "colab_type": "text"
      },
      "source": [
        "<a href=\"https://colab.research.google.com/github/zzickso/CNN/blob/main/Lec03_00_%EC%BB%A8%EB%B3%BC%EB%A3%A8%EC%85%98_%EC%97%B0%EC%82%B0%EC%9D%98_%ED%8C%8C%EB%9D%BC%EB%AF%B8%ED%84%B0_%EC%82%B4%ED%8E%B4%EB%B3%B4%EA%B8%B0.ipynb\" target=\"_parent\"><img src=\"https://colab.research.google.com/assets/colab-badge.svg\" alt=\"Open In Colab\"/></a>"
      ]
    },
    {
      "cell_type": "code",
      "metadata": {
        "id": "MqauGv2PhOLS"
      },
      "source": [
        "# Codes are adapted from http://bit.ly/2U7ttYT (파이토치 첫걸음,한빛미디어)"
      ],
      "execution_count": null,
      "outputs": []
    },
    {
      "cell_type": "markdown",
      "metadata": {
        "id": "p4cW9L6wm03l"
      },
      "source": [
        "# Convolutional Neural Network\n",
        "\n",
        "### 컨볼루션 연산의 다양한 인자들을 바꿔보며 결과가 어떻게 달라지는지 알아보는 노트북입니다.\n",
        "\n",
        "- https://pytorch.org/docs/stable/nn.html?highlight=conv2d#torch.nn.Conv2d\n",
        "- in_channels: 입력의 채널 수\n",
        "- out_channels: 출력의 채널 수\n",
        "- kernel_size: 필터 혹은 커널의 크기 \n",
        "- stride: 필터 적용의 간격 (stride: 걸음걸이)\n",
        "- padding: 입력 데이터를 추가적으로 둘러싸는 층의 두께\n",
        "- dilation: 책에서 다루지 않고 넘어간 내용이라 링크로 대체합니다. (https://laonple.blog.me/220991967450)\n",
        "- groups: 입력을 채널 단위로 몇개의 분리된 그룹으로 볼 것인가 \n",
        "- bias: 편차의 사용여부\n",
        "- padding_mode: 패딩 적용 방식 (ex. zero padding은 0으로 채우는 경우)"
      ]
    },
    {
      "cell_type": "code",
      "metadata": {
        "id": "OQAYhlMshSUI",
        "colab": {
          "base_uri": "https://localhost:8080/"
        },
        "outputId": "45b53593-e112-472b-d6cd-30687f61487a"
      },
      "source": [
        "from google.colab import drive\n",
        "drive.mount('/content/drive', force_remount=True)"
      ],
      "execution_count": null,
      "outputs": [
        {
          "output_type": "stream",
          "text": [
            "Mounted at /content/drive\n"
          ],
          "name": "stdout"
        }
      ]
    },
    {
      "cell_type": "code",
      "metadata": {
        "id": "smBkOPahhSz4",
        "colab": {
          "base_uri": "https://localhost:8080/"
        },
        "outputId": "4a6d87f7-544f-47f2-d324-7242ba648d7b"
      },
      "source": [
        "cd '/content/drive/MyDrive/ColabNotebooks/Lecture/Pytorch/Codes'"
      ],
      "execution_count": null,
      "outputs": [
        {
          "output_type": "stream",
          "text": [
            "/content/drive/MyDrive/ColabNotebooks/Lecture/Pytorch/Codes\n"
          ],
          "name": "stdout"
        }
      ]
    },
    {
      "cell_type": "markdown",
      "metadata": {
        "id": "hXlGgH40nNDd"
      },
      "source": [
        "## 1. Settings\n",
        "### 1) Import required libraries"
      ]
    },
    {
      "cell_type": "code",
      "metadata": {
        "id": "AYVcJaYQm4Ts"
      },
      "source": [
        "import torch\n",
        "import torch.nn as nn\n",
        "import torchvision.datasets as dset\n",
        "import torchvision.transforms as transforms\n",
        "from torch.utils.data import DataLoader\n",
        "import matplotlib.pyplot as plt"
      ],
      "execution_count": null,
      "outputs": []
    },
    {
      "cell_type": "markdown",
      "metadata": {
        "id": "4w7EaN7onVDy"
      },
      "source": [
        "## 2. Data\n",
        "\n",
        "### 1) Download Data"
      ]
    },
    {
      "cell_type": "code",
      "metadata": {
        "id": "bLaoDeC-m6uD"
      },
      "source": [
        "mnist_train = dset.MNIST(\"./data\", train=True, transform=transforms.ToTensor(), target_transform=None, download=True)"
      ],
      "execution_count": null,
      "outputs": []
    },
    {
      "cell_type": "markdown",
      "metadata": {
        "id": "hP71pb1onXkq"
      },
      "source": [
        "### 2) Item"
      ]
    },
    {
      "cell_type": "code",
      "metadata": {
        "id": "jKa1s4Qsm-6v",
        "colab": {
          "base_uri": "https://localhost:8080/"
        },
        "outputId": "dfbfb79d-788c-4224-9f5a-78ccac5d541c"
      },
      "source": [
        "print(mnist_train)\n",
        "\n",
        "# dataset.__getitem__(idx)\n",
        "image,label = mnist_train.__getitem__(0)\n",
        "print(image.size(),label)\n",
        "\n",
        "# dataset[idx]\n",
        "image,label = mnist_train[0]\n",
        "print(image.size(),label)"
      ],
      "execution_count": null,
      "outputs": [
        {
          "output_type": "stream",
          "text": [
            "Dataset MNIST\n",
            "    Number of datapoints: 60000\n",
            "    Root location: ./data\n",
            "    Split: Train\n",
            "    StandardTransform\n",
            "Transform: ToTensor()\n",
            "torch.Size([1, 28, 28]) 5\n",
            "torch.Size([1, 28, 28]) 5\n"
          ],
          "name": "stdout"
        }
      ]
    },
    {
      "cell_type": "markdown",
      "metadata": {
        "id": "X4pj4sSrncxm"
      },
      "source": [
        "### 3) Length"
      ]
    },
    {
      "cell_type": "code",
      "metadata": {
        "id": "8rFlLl-ZnA4w",
        "colab": {
          "base_uri": "https://localhost:8080/"
        },
        "outputId": "73e9c62e-2680-48d0-f042-d0cdc95812f6"
      },
      "source": [
        "# dataset.__len__()\n",
        "print(mnist_train.__len__())\n",
        "\n",
        "# len(dataset)\n",
        "len(mnist_train)"
      ],
      "execution_count": null,
      "outputs": [
        {
          "output_type": "stream",
          "text": [
            "60000\n"
          ],
          "name": "stdout"
        },
        {
          "output_type": "execute_result",
          "data": {
            "text/plain": [
              "60000"
            ]
          },
          "metadata": {
            "tags": []
          },
          "execution_count": 16
        }
      ]
    },
    {
      "cell_type": "markdown",
      "metadata": {
        "id": "gYOL84cxnfK5"
      },
      "source": [
        "### 4) Show Image"
      ]
    },
    {
      "cell_type": "code",
      "metadata": {
        "id": "rcDAqDWwnDvy",
        "colab": {
          "base_uri": "https://localhost:8080/",
          "height": 813
        },
        "outputId": "7fb7306b-3d94-449d-a919-adac7cd6ac0a"
      },
      "source": [
        "for i in range(3):\n",
        "    img= mnist_train[i][0].numpy()\n",
        "    label = mnist_train[i][1]\n",
        "    plt.imshow(img[0],cmap='gray')\n",
        "    plt.show()\n",
        "    print(\"label= {}\".format(label))"
      ],
      "execution_count": null,
      "outputs": [
        {
          "output_type": "display_data",
          "data": {
            "image/png": "[encoded data removed]",
            "text/plain": [
              "<Figure size 432x288 with 1 Axes>"
            ]
          },
          "metadata": {
            "tags": [],
            "needs_background": "light"
          }
        },
        {
          "output_type": "stream",
          "text": [
            "label= 5\n"
          ],
          "name": "stdout"
        },
        {
          "output_type": "display_data",
          "data": {
            "image/png": "[encoded data removed]",
            "text/plain": [
              "<Figure size 432x288 with 1 Axes>"
            ]
          },
          "metadata": {
            "tags": [],
            "needs_background": "light"
          }
        },
        {
          "output_type": "stream",
          "text": [
            "label= 0\n"
          ],
          "name": "stdout"
        },
        {
          "output_type": "display_data",
          "data": {
            "image/png": "[encoded data removed]",
            "text/plain": [
              "<Figure size 432x288 with 1 Axes>"
            ]
          },
          "metadata": {
            "tags": [],
            "needs_background": "light"
          }
        },
        {
          "output_type": "stream",
          "text": [
            "label= 4\n"
          ],
          "name": "stdout"
        }
      ]
    },
    {
      "cell_type": "markdown",
      "metadata": {
        "id": "6biwkI3fnkMe"
      },
      "source": [
        "## 3. Convolution Layer\n",
        "\n",
        "- torch.nn.Conv2d(in_channels, out_channels, kernel_size, stride=1, padding=0, dilation=1, groups=1, bias=True, padding_mode='zeros')\n",
        "- Channels\n",
        "- Kernel size\n",
        "- Stride\n",
        "- Padding\n",
        "- 파이토치 텐서 사이즈는 다음과 같은 형태를 가지고 있습니다 -> [Batch,Channel,Height,Width]\n",
        "\n",
        "\n",
        "### 1) Channels\n",
        "\n",
        "- 채널을 바꾸면 어떻게 될까?"
      ]
    },
    {
      "cell_type": "code",
      "metadata": {
        "id": "uRMw_9ggnFkk",
        "colab": {
          "base_uri": "https://localhost:8080/",
          "height": 813
        },
        "outputId": "0699a5af-6f84-4d48-9e9d-185bc997a1b1"
      },
      "source": [
        "# 먼저 트레이닝 데이터의 첫번째 이미지-라벨 쌍을 불러옵니다.\n",
        "image,label = mnist_train[0]\n",
        "\n",
        "print(\"before .view function: {}\".format(image.size()))\n",
        "\n",
        "# nn.Conv2d 연산을 적용할 수 있도록 이미지 데이터의 형태를 [1,1,28,28]로 만들어줍니다.\n",
        "# 이는 view 말고도 unsqueeze 함수로도 구현할 수 있습니다.\n",
        "image = image.view(-1,image.size()[0],image.size()[1],image.size()[2])\n",
        "\n",
        "print(\"after .view function: {}\".format(image.size()))\n",
        "\n",
        "# 1개의 채널을 입력으로 받아서 3개의 채널이 나오는 컨볼루션 연산을 정의합니다.\n",
        "conv_layer = nn.Conv2d(in_channels=1,out_channels=3,kernel_size=1)\n",
        "\n",
        "# 연산에 입력 이미지를 넣습니다.\n",
        "output = conv_layer(image)\n",
        "\n",
        "# 결과의 형태를 확인합니다. \n",
        "# 연산에서 정의한대로 결과값의 형태는 [1,3,28,28]이 나옵니다. \n",
        "print(output.size())\n",
        "\n",
        "# 출력의 각 채널별 이미지를 띄워봅니다. \n",
        "for i in range(output.size()[1]):\n",
        "    plt.imshow(output[0,i,:,:].data.numpy(),cmap='gray',vmin=-1,vmax=1)\n",
        "    plt.show()"
      ],
      "execution_count": null,
      "outputs": [
        {
          "output_type": "stream",
          "text": [
            "before .view function: torch.Size([1, 28, 28])\n",
            "after .view function: torch.Size([1, 1, 28, 28])\n",
            "torch.Size([1, 3, 28, 28])\n"
          ],
          "name": "stdout"
        },
        {
          "output_type": "display_data",
          "data": {
            "image/png": "[encoded data removed]",
            "text/plain": [
              "<Figure size 432x288 with 1 Axes>"
            ]
          },
          "metadata": {
            "tags": [],
            "needs_background": "light"
          }
        },
        {
          "output_type": "display_data",
          "data": {
            "image/png": "[encoded data removed]",
            "text/plain": [
              "<Figure size 432x288 with 1 Axes>"
            ]
          },
          "metadata": {
            "tags": [],
            "needs_background": "light"
          }
        },
        {
          "output_type": "display_data",
          "data": {
            "image/png": "[encoded data removed]",
            "text/plain": [
              "<Figure size 432x288 with 1 Axes>"
            ]
          },
          "metadata": {
            "tags": [],
            "needs_background": "light"
          }
        }
      ]
    },
    {
      "cell_type": "markdown",
      "metadata": {
        "id": "WYfFnwOTnw3V"
      },
      "source": [
        "### 2) Kernel Size\n",
        "- 커널 혹은 필터의 크기가 어떤 역할을 할까?"
      ]
    },
    {
      "cell_type": "code",
      "metadata": {
        "id": "LuC_tVrbnnKX",
        "colab": {
          "base_uri": "https://localhost:8080/",
          "height": 813
        },
        "outputId": "ee11f4bb-a1ba-44ff-d12c-6659988746c7"
      },
      "source": [
        "# 커널 사이즈를 1로 하는 경우\n",
        "conv_layer = nn.Conv2d(in_channels=1,out_channels=1,kernel_size=1)\n",
        "output = conv_layer(image)\n",
        "plt.imshow(output[0,0,:,:].data.numpy(),cmap='gray')\n",
        "plt.show()\n",
        "print(\"커널 사이즈가 1인 경우 결과값의 크기:{}\".format(output.size()))\n",
        "\n",
        "\n",
        "# 커널 사이즈를 3로 하는 경우\n",
        "conv_layer = nn.Conv2d(in_channels=1,out_channels=1,kernel_size=3)\n",
        "output = conv_layer(image)\n",
        "plt.imshow(output[0,0,:,:].data.numpy(),cmap='gray')\n",
        "plt.show()\n",
        "print(\"커널 사이즈가 3인 경우 결과값의 크기:{}\".format(output.size()))\n",
        "\n",
        "\n",
        "# 커널 사이즈를 7로 하는 경우\n",
        "conv_layer = nn.Conv2d(in_channels=1,out_channels=1,kernel_size=5)\n",
        "output = conv_layer(image)\n",
        "plt.imshow(output[0,0,:,:].data.numpy(),cmap='gray')\n",
        "plt.show()\n",
        "print(\"커널 사이즈가 5인 경우 결과값의 크기:{}\".format(output.size()))"
      ],
      "execution_count": null,
      "outputs": [
        {
          "output_type": "display_data",
          "data": {
            "image/png": "[encoded data removed]",
            "text/plain": [
              "<Figure size 432x288 with 1 Axes>"
            ]
          },
          "metadata": {
            "tags": [],
            "needs_background": "light"
          }
        },
        {
          "output_type": "stream",
          "text": [
            "커널 사이즈가 1인 경우 결과값의 크기:torch.Size([1, 1, 28, 28])\n"
          ],
          "name": "stdout"
        },
        {
          "output_type": "display_data",
          "data": {
            "image/png": "[encoded data removed]",
            "text/plain": [
              "<Figure size 432x288 with 1 Axes>"
            ]
          },
          "metadata": {
            "tags": [],
            "needs_background": "light"
          }
        },
        {
          "output_type": "stream",
          "text": [
            "커널 사이즈가 3인 경우 결과값의 크기:torch.Size([1, 1, 26, 26])\n"
          ],
          "name": "stdout"
        },
        {
          "output_type": "display_data",
          "data": {
            "image/png": "[encoded data removed]",
            "text/plain": [
              "<Figure size 432x288 with 1 Axes>"
            ]
          },
          "metadata": {
            "tags": [],
            "needs_background": "light"
          }
        },
        {
          "output_type": "stream",
          "text": [
            "커널 사이즈가 7인 경우 결과값의 크기:torch.Size([1, 1, 22, 22])\n"
          ],
          "name": "stdout"
        }
      ]
    },
    {
      "cell_type": "markdown",
      "metadata": {
        "id": "8dZrdTzqnwiR"
      },
      "source": [
        "### 3) Stride\n",
        "- 스트라이드를 다르게 하면 어떻게 될까?"
      ]
    },
    {
      "cell_type": "code",
      "metadata": {
        "id": "WZyu6PVUn7sc",
        "colab": {
          "base_uri": "https://localhost:8080/",
          "height": 824
        },
        "outputId": "6911dc75-9232-41a0-c29e-12d77a3c55a7"
      },
      "source": [
        "# 스트라이드가 1인 경우\n",
        "conv_layer = nn.Conv2d(in_channels=1,out_channels=1,kernel_size=1,stride=1)\n",
        "output = conv_layer(image)\n",
        "plt.imshow(output[0,0,:,:].data.numpy(),cmap='gray')\n",
        "plt.show()\n",
        "print(\"스트라이드가 1인 경우 결과값의 크기:{}\".format(output.size()))\n",
        "\n",
        "\n",
        "# 스트라이드가 3인 경우\n",
        "conv_layer = nn.Conv2d(in_channels=1,out_channels=1,kernel_size=1,stride=3)\n",
        "output = conv_layer(image)\n",
        "plt.imshow(output[0,0,:,:].data.numpy(),cmap='gray')\n",
        "plt.show()\n",
        "print(\"스트라이드가 3인 경우 결과값의 크기:{}\".format(output.size()))\n",
        "\n",
        "\n",
        "# 스트라이드가 5인 경우\n",
        "conv_layer = nn.Conv2d(in_channels=1,out_channels=1,kernel_size=1,stride=5)\n",
        "output = conv_layer(image)\n",
        "plt.imshow(output[0,0,:,:].data.numpy(),cmap='gray')\n",
        "plt.show()\n",
        "print(\"스트라이드가 5인 경우 결과값의 크기:{}\".format(output.size()))"
      ],
      "execution_count": null,
      "outputs": [
        {
          "output_type": "display_data",
          "data": {
            "image/png": "[encoded data removed]",
            "text/plain": [
              "<Figure size 432x288 with 1 Axes>"
            ]
          },
          "metadata": {
            "tags": []
          }
        },
        {
          "output_type": "stream",
          "text": [
            "스트라이드가 1인 경우 결과값의 크기:torch.Size([1, 1, 28, 28])\n"
          ],
          "name": "stdout"
        },
        {
          "output_type": "display_data",
          "data": {
            "image/png": "[encoded data removed]",
            "text/plain": [
              "<Figure size 432x288 with 1 Axes>"
            ]
          },
          "metadata": {
            "tags": []
          }
        },
        {
          "output_type": "stream",
          "text": [
            "스트라이드가 3인 경우 결과값의 크기:torch.Size([1, 1, 10, 10])\n"
          ],
          "name": "stdout"
        },
        {
          "output_type": "display_data",
          "data": {
            "image/png": "[encoded data removed]",
            "text/plain": [
              "<Figure size 432x288 with 1 Axes>"
            ]
          },
          "metadata": {
            "tags": []
          }
        },
        {
          "output_type": "stream",
          "text": [
            "스트라이드가 5인 경우 결과값의 크기:torch.Size([1, 1, 6, 6])\n"
          ],
          "name": "stdout"
        }
      ]
    },
    {
      "cell_type": "markdown",
      "metadata": {
        "id": "6R8hNaicoDF5"
      },
      "source": [
        "### 4) Padding\n",
        "- 패딩을 다르게 주면 어떻게 변할까?"
      ]
    },
    {
      "cell_type": "code",
      "metadata": {
        "id": "KDnnRiMPn_qf",
        "colab": {
          "base_uri": "https://localhost:8080/",
          "height": 824
        },
        "outputId": "7cdfa807-4efb-4b8d-f9ec-186b1bfe3773"
      },
      "source": [
        "# 패딩이 없는 경우\n",
        "conv_layer = nn.Conv2d(in_channels=1,out_channels=1,kernel_size=1,padding=0)\n",
        "output = conv_layer(image)\n",
        "plt.imshow(output[0,0,:,:].data.numpy(),cmap='gray')\n",
        "plt.show()\n",
        "print(\"패딩이 0인 경우 결과값의 크기:{}\".format(output.size()))\n",
        "\n",
        "# 패딩이 1인 경우\n",
        "conv_layer = nn.Conv2d(in_channels=1,out_channels=1,kernel_size=1,padding=1)\n",
        "output = conv_layer(image)\n",
        "plt.imshow(output[0,0,:,:].data.numpy(),cmap='gray')\n",
        "plt.show()\n",
        "print(\"패딩이 1인 경우 결과값의 크기:{}\".format(output.size()))\n",
        "\n",
        "# 패딩이 2인 경우\n",
        "conv_layer = nn.Conv2d(in_channels=1,out_channels=1,kernel_size=1,padding=2)\n",
        "output = conv_layer(image)\n",
        "plt.imshow(output[0,0,:,:].data.numpy(),cmap='gray')\n",
        "plt.show()\n",
        "print(\"패딩이 2인 경우 결과값의 크기:{}\".format(output.size()))"
      ],
      "execution_count": null,
      "outputs": [
        {
          "output_type": "display_data",
          "data": {
            "image/png": "[encoded data removed]",
            "text/plain": [
              "<Figure size 432x288 with 1 Axes>"
            ]
          },
          "metadata": {
            "tags": []
          }
        },
        {
          "output_type": "stream",
          "text": [
            "패딩이 0인 경우 결과값의 크기:torch.Size([1, 1, 28, 28])\n"
          ],
          "name": "stdout"
        },
        {
          "output_type": "display_data",
          "data": {
            "image/png": "[encoded data removed]",
            "text/plain": [
              "<Figure size 432x288 with 1 Axes>"
            ]
          },
          "metadata": {
            "tags": []
          }
        },
        {
          "output_type": "stream",
          "text": [
            "패딩이 1인 경우 결과값의 크기:torch.Size([1, 1, 30, 30])\n"
          ],
          "name": "stdout"
        },
        {
          "output_type": "display_data",
          "data": {
            "image/png": "[encoded data removed]",
            "text/plain": [
              "<Figure size 432x288 with 1 Axes>"
            ]
          },
          "metadata": {
            "tags": []
          }
        },
        {
          "output_type": "stream",
          "text": [
            "패딩이 2인 경우 결과값의 크기:torch.Size([1, 1, 32, 32])\n"
          ],
          "name": "stdout"
        }
      ]
    }
  ]
}